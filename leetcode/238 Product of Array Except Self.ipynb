{
 "cells": [
  {
   "cell_type": "markdown",
   "metadata": {},
   "source": [
    "- 링크\n",
    "    - https://leetcode.com/problems/product-of-array-except-self/description/?envType=daily-question&envId=2024-03-15\n",
    "\n",
    "- 개요\n",
    "    - nums 의 각 자기 자신 index 를 제외한 것들의 곱을 제출해야 하는 문제\n",
    "    - input 길이는 최대 10 ^ 5 "
   ]
  },
  {
   "cell_type": "markdown",
   "metadata": {},
   "source": [
    "- 시간복잡도\n",
    "    - 첫 all_combined_except_0 및 zero_indices 생성에 O(N)\n",
    "    - 두번째 nums iteration에 O(N)\n",
    "\n",
    "    - 종합 O(N)"
   ]
  },
  {
   "cell_type": "code",
   "execution_count": null,
   "metadata": {},
   "outputs": [],
   "source": [
    "class Solution:\n",
    "    def productExceptSelf(self, nums: List[int]) -> List[int]:\n",
    "        all_combined_except_0 = 1\n",
    "        zero_indices = []\n",
    "\n",
    "        # 전부 곱한 값을 한번 생성해두고, 이를 나눠 각 결과가 사용하는 방시을 사용하고자 합니다.\n",
    "        for i, num in enumerate(nums):\n",
    "            if num == 0:\n",
    "                zero_indices.append(i)\n",
    "            else:\n",
    "                all_combined_except_0 *= num\n",
    "\n",
    "        answers = [0] * len(nums)\n",
    "\n",
    "        if len(zero_indices) >= 2:\n",
    "            # 0이 두개 이상 있다면 모든 값이 0이어야 합니다.\n",
    "            pass\n",
    "        elif len(zero_indices) == 1:\n",
    "            # 0이 1개라면 0인 곳만 값을 대치해주면 됩니다.\n",
    "            answers[zero_indices[0]] = all_combined_except_0\n",
    "        else:\n",
    "            # 0이 전부 아닐 경우 전체 곱 값에 각 num 을 나누어준다.\n",
    "            for j, num in enumerate(nums):\n",
    "                answers[j] = int(all_combined_except_0 / num)\n",
    "\n",
    "        return answers"
   ]
  }
 ],
 "metadata": {
  "language_info": {
   "name": "python"
  }
 },
 "nbformat": 4,
 "nbformat_minor": 2
}
