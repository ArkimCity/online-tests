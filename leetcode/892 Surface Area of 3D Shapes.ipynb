{
 "cells": [
  {
   "cell_type": "markdown",
   "metadata": {},
   "source": [
    "- 링크\n",
    "    - https://leetcode.com/problems/surface-area-of-3d-shapes/submissions/1210063997/\n",
    "\n",
    "- 개요\n",
    "    - 숫자 개수만큼 큐브가 쌓여있다고 가정하고 표면적의 합을 찾는 문제"
   ]
  },
  {
   "cell_type": "markdown",
   "metadata": {},
   "source": [
    "- 시간복잡도\n",
    "    - flatten 한 grid 요소의 길이를 N으로 가정할 경우\n",
    "    \n",
    "    - O(N)"
   ]
  },
  {
   "cell_type": "code",
   "execution_count": null,
   "metadata": {},
   "outputs": [],
   "source": [
    "class Solution:\n",
    "    def surfaceArea(self, grid: List[List[int]]) -> int:\n",
    "        answer = 0\n",
    "        for i, row in enumerate(grid):\n",
    "            for j, val in enumerate(row):\n",
    "\n",
    "                # 없는 곳에는 0이 있다고 가정\n",
    "                left_val = grid[i][j - 1] if j - 1 >= 0 else 0\n",
    "                right_val = grid[i][j + 1] if j + 1 < len(row) else 0\n",
    "                top_val = grid[i - 1][j] if i - 1 >= 0 else 0\n",
    "                bottom_val = grid[i + 1][j] if i + 1 < len(grid) else 0\n",
    "\n",
    "                # 큐브가 있는 칸의 경우 윗면과 아랫면 추가\n",
    "                if val > 0:\n",
    "                    answer += 2\n",
    "\n",
    "                # 옆면이 보이는 정도는 옆 칸이 덮지 않은 값의 개수\n",
    "                answer += max(0, val - left_val)\n",
    "                answer += max(0, val - right_val)\n",
    "                answer += max(0, val - top_val)\n",
    "                answer += max(0, val - bottom_val)\n",
    "\n",
    "        return answer"
   ]
  }
 ],
 "metadata": {
  "language_info": {
   "name": "python"
  }
 },
 "nbformat": 4,
 "nbformat_minor": 2
}
