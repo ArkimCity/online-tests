{
 "cells": [
  {
   "cell_type": "markdown",
   "metadata": {},
   "source": [
    "- 링크\n",
    "    - https://leetcode.com/problems/contiguous-array/description/?envType=daily-question&envId=2024-03-16\n",
    "\n",
    "- 개요\n",
    "    - 0 과 1의 개수가 같은 가장 긴 subarray 의 길이를 찾는 문제\n",
    "    - input 길이는 최대 10 ^ 5 "
   ]
  },
  {
   "cell_type": "markdown",
   "metadata": {},
   "source": [
    "- 시간복잡도\n",
    "\n",
    "    - 첫 sum_list 생성에 O(N)\n",
    "    \n",
    "    - sum_list list 를 iterate 하는 O(N)\n",
    "        - python 의 key in dict 는 O(1)\n",
    "        - python 의 key 로 get O(1) \n",
    "\n",
    "    - 종합 O(N)"
   ]
  },
  {
   "cell_type": "code",
   "execution_count": null,
   "metadata": {},
   "outputs": [],
   "source": [
    "class Solution:\n",
    "    def findMaxLength(self, nums: List[int]) -> int:\n",
    "\n",
    "        # 0 혹은 1을 -1 과 1로 치환해 합계를 0으로 만드는 경우가 정답 후보입니다.\n",
    "        # 따라서 각 위치의 합계를 아는 것으로 숫자 개수의 변화를 알 수 있습니다.\n",
    "        num_sum = -1 if nums[0] == 0 else 1\n",
    "        sum_list = [num_sum]\n",
    "        for num in nums[1:]:\n",
    "            sum_addition = -1 if num == 0 else 1\n",
    "            sum_list.append(sum_list[-1] + sum_addition)\n",
    "\n",
    "        answer = 0\n",
    "        sum_map = {}\n",
    "        for i, each_index_sum in enumerate(sum_list):\n",
    "            if each_index_sum == 0:\n",
    "                # 0인 경우는 그대로 정답으로 사용할 수 있습니다.\n",
    "                answer = max(answer, i + 1)\n",
    "            if each_index_sum not in sum_map:\n",
    "                # 해당 합계가 처음 나타난 index를 저장합니다.\n",
    "                sum_map[each_index_sum] = i\n",
    "            else:\n",
    "                # 그 합계를 다시 발견할 경우, 첫 발견부터 현재까지의 합이 0이 된다는 의미로, 정답이라고 볼 수 있습니다.\n",
    "                answer = max(answer, i - sum_map[each_index_sum])\n",
    "\n",
    "        return answer"
   ]
  }
 ],
 "metadata": {
  "language_info": {
   "name": "python"
  }
 },
 "nbformat": 4,
 "nbformat_minor": 2
}
