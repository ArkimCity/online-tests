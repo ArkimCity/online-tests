{
 "cells": [
  {
   "cell_type": "markdown",
   "metadata": {},
   "source": [
    "- 링크\n",
    "    - https://leetcode.com/problems/find-the-pivot-integer/?envType=daily-question&envId=2024-03-19\n",
    "\n",
    "- 개요\n",
    "    - 본인을 포함한 좌 우 합이 동일한 값 찾기"
   ]
  },
  {
   "cell_type": "markdown",
   "metadata": {},
   "source": [
    "- 시간복잡도\n",
    "    - range -> range 자체는 1\n",
    "    - sum -> O(N)\n",
    "    - nums iteration -> O(N)\n",
    "    \n",
    "    - O(N)"
   ]
  },
  {
   "cell_type": "code",
   "execution_count": null,
   "metadata": {},
   "outputs": [],
   "source": [
    "class Solution:\n",
    "    def pivotInteger(self, n: int) -> int:\n",
    "\n",
    "        nums = range(1, n + 1)\n",
    "        sum_of_nums = sum(nums)\n",
    "        left, right = 0, sum_of_nums\n",
    "\n",
    "        for num in nums:\n",
    "            left += num\n",
    "            right -= (num - 1)\n",
    "            if left == right:\n",
    "                return num\n",
    "\n",
    "        return -1"
   ]
  }
 ],
 "metadata": {
  "language_info": {
   "name": "python"
  }
 },
 "nbformat": 4,
 "nbformat_minor": 2
}
