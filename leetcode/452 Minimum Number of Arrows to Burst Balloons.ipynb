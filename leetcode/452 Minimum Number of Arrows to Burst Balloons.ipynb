{
 "cells": [
  {
   "cell_type": "markdown",
   "metadata": {},
   "source": [
    "- 링크\n",
    "    - https://leetcode.com/problems/minimum-number-of-arrows-to-burst-balloons/?envType=daily-question&envId=2024-03-18\n",
    "\n",
    "- 개요\n",
    "    - 가장 적은 횟수의 값 지정으로 모든 range 를 터치해야 하는 문제"
   ]
  },
  {
   "cell_type": "markdown",
   "metadata": {},
   "source": [
    "- 시간복잡도\n",
    "    - 첫 sorted 사용시 O(NlogN)\n",
    "    - sorted_balloons iteration 에 O(N)\n",
    "\n",
    "    - 종합 O(NlogN)"
   ]
  },
  {
   "cell_type": "code",
   "execution_count": null,
   "metadata": {},
   "outputs": [],
   "source": [
    "class Solution:\n",
    "    def findMinArrowShots(self, points: List[List[int]]) -> int:\n",
    "        # 앞에서 만나는 첫번쨰 점 (points 의 시작 기준으로 sort 되어있다는 가정)\n",
    "        # -> 해당 점이 끝나기 전까지 만나는 선 저장\n",
    "        # -> 내부에서 하나라도 끝나는 것이 생기면 그 점에서 슛 (여길 넘어가면 이전까지의 풍선을 터뜨릴 방법이 없음)\n",
    "\n",
    "        sorted_balloons = sorted(points)\n",
    "\n",
    "        answer = 0\n",
    "        shooted_balloons = [sorted_balloons[0]]\n",
    "        shooted_balloons_minimum = sorted_balloons[0][1]\n",
    "\n",
    "        for each_balloon in sorted_balloons[1:]:\n",
    "            if shooted_balloons_minimum < each_balloon[0]:\n",
    "                answer += 1 # shoot!\n",
    "                shooted_balloons = []\n",
    "                shooted_balloons_minimum = each_balloon[1]\n",
    "            else:\n",
    "                shooted_balloons_minimum = min(shooted_balloons_minimum, each_balloon[1])\n",
    "            shooted_balloons.append(each_balloon)\n",
    "\n",
    "        # 남아있는 풍선이 있다면 쏴줍니다\n",
    "        if len(shooted_balloons) > 0:\n",
    "            answer += 1\n",
    "\n",
    "        return answer"
   ]
  }
 ],
 "metadata": {
  "language_info": {
   "name": "python"
  }
 },
 "nbformat": 4,
 "nbformat_minor": 2
}
